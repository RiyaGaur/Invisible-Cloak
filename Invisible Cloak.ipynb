{
 "cells": [
  {
   "cell_type": "code",
   "execution_count": 4,
   "metadata": {},
   "outputs": [],
   "source": [
    "import numpy as np\n",
    "import cv2\n",
    "\n",
    "cap = cv2.VideoCapture(0)\n",
    "background = cv2.imread('./image.jpg')\n",
    "\n",
    "while cap.isOpened():\n",
    "    # take each frame\n",
    "    ret, frame = cap.read()\n",
    "    if ret:\n",
    "        # how do we convert rgb to hsv (hue saturation value)\n",
    "        hsv = cv2.cvtColor(frame, cv2.COLOR_BGR2HSV)\n",
    "        # cv2. imshow(\"hsv\", hsv)\n",
    "        \n",
    "        # how to get hsv value?\n",
    "        # lower: hue-10, 100, 100,   higher; hue+10, 255, 255\n",
    "        red = np.uint8([[[0, 0, 255]]])                         # bgr format\n",
    "        hsv_red = cv2.cvtColor(red, cv2.COLOR_BGR2HSV)\n",
    "        # get hav value of red from bgr\n",
    "        # print(hsv_red)\n",
    "\n",
    "        # threshold the hsv value to get only red color\n",
    "        # increase the hsv range if you find some error\n",
    "        \n",
    "        l_red = np.array([0, 100, 100])\n",
    "        u_red = np.array([40, 255, 255])           \n",
    "\n",
    "        mask = cv2.inRange(hsv, l_red, u_red)\n",
    "        # cv2.imshow('mask', mask)                # Red color will get highlighted and get a B/W picture where red is heighlighted by white\n",
    "        \n",
    "        # apply morphological Transformations for removing edges of that red cloth.\n",
    "        mask = cv2.morphologyEx(mask, cv2.MORPH_OPEN, np.ones((3, 3), np.uint8), iterations=1)\n",
    "        mask = cv2.dilate(mask, np.ones((3, 3), np.uint8), iterations=1)\n",
    "\n",
    "        # part1 is all things red replaced by background\n",
    "        part1 = cv2.bitwise_and(background, background, mask=mask)\n",
    "        #cv2.imshow('part1', part1)\n",
    "\n",
    "        mask = cv2.bitwise_not(mask)\n",
    "\n",
    "        # part2 is all things not red replaced by background\n",
    "        part2 = cv2.bitwise_and(frame, frame, mask=mask)\n",
    "        # cv2.imshow(\"part2\", part2)\n",
    "\n",
    "        cv2.imshow(\"cloak\", part1 + part2)\n",
    "\n",
    "        if cv2.waitKey(5) == ord(\"q\"):\n",
    "            break\n",
    "\n",
    "cap.release()\n",
    "cv2.destroyAllWindows()"
   ]
  },
  {
   "cell_type": "code",
   "execution_count": null,
   "metadata": {},
   "outputs": [],
   "source": []
  }
 ],
 "metadata": {
  "kernelspec": {
   "display_name": "Python 3",
   "language": "python",
   "name": "python3"
  },
  "language_info": {
   "codemirror_mode": {
    "name": "ipython",
    "version": 3
   },
   "file_extension": ".py",
   "mimetype": "text/x-python",
   "name": "python",
   "nbconvert_exporter": "python",
   "pygments_lexer": "ipython3",
   "version": "3.7.6"
  }
 },
 "nbformat": 4,
 "nbformat_minor": 4
}
